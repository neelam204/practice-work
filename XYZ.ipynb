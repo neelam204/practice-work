{
 "cells": [
  {
   "cell_type": "code",
   "execution_count": 1,
   "id": "31fa1917",
   "metadata": {},
   "outputs": [
    {
     "data": {
      "text/plain": [
       "3"
      ]
     },
     "execution_count": 1,
     "metadata": {},
     "output_type": "execute_result"
    }
   ],
   "source": [
    "1+2"
   ]
  },
  {
   "cell_type": "code",
   "execution_count": 2,
   "id": "2ae6ba40",
   "metadata": {},
   "outputs": [
    {
     "data": {
      "text/plain": [
       "'neelam'"
      ]
     },
     "execution_count": 2,
     "metadata": {},
     "output_type": "execute_result"
    }
   ],
   "source": [
    "\"neelam\""
   ]
  },
  {
   "cell_type": "code",
   "execution_count": 3,
   "id": "5d21d33d",
   "metadata": {},
   "outputs": [
    {
     "data": {
      "text/plain": [
       "5"
      ]
     },
     "execution_count": 3,
     "metadata": {},
     "output_type": "execute_result"
    }
   ],
   "source": [
    "2+3"
   ]
  },
  {
   "cell_type": "code",
   "execution_count": null,
   "id": "3340543c",
   "metadata": {},
   "outputs": [],
   "source": []
  },
  {
   "cell_type": "markdown",
   "id": "3d88f9c0",
   "metadata": {},
   "source": [
    "# fuygug gfghoi uhij"
   ]
  },
  {
   "cell_type": "code",
   "execution_count": null,
   "id": "bb00acba",
   "metadata": {},
   "outputs": [],
   "source": [
    "Q.\n",
    "Answer:\n",
    "Q.\n",
    "Answer:"
   ]
  }
 ],
 "metadata": {
  "kernelspec": {
   "display_name": "Python 3 (ipykernel)",
   "language": "python",
   "name": "python3"
  },
  "language_info": {
   "codemirror_mode": {
    "name": "ipython",
    "version": 3
   },
   "file_extension": ".py",
   "mimetype": "text/x-python",
   "name": "python",
   "nbconvert_exporter": "python",
   "pygments_lexer": "ipython3",
   "version": "3.11.5"
  }
 },
 "nbformat": 4,
 "nbformat_minor": 5
}
